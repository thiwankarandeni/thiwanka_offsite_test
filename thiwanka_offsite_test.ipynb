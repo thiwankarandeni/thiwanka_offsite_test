{
 "cells": [
  {
   "cell_type": "markdown",
   "id": "b58bce41",
   "metadata": {},
   "source": [
    "## Section 1: thiwanka_offsite_test"
   ]
  },
  {
   "cell_type": "markdown",
   "id": "3248305a",
   "metadata": {},
   "source": [
    "### importing pandas"
   ]
  },
  {
   "cell_type": "code",
   "execution_count": 3,
   "id": "61d746a4",
   "metadata": {},
   "outputs": [],
   "source": [
    "import pandas as pd"
   ]
  },
  {
   "cell_type": "markdown",
   "id": "c44b68a1",
   "metadata": {},
   "source": [
    "### Loading CSV Files"
   ]
  },
  {
   "cell_type": "code",
   "execution_count": 7,
   "id": "096eab0d",
   "metadata": {},
   "outputs": [],
   "source": [
    "df_product = pd.read_csv(\"input_files/product_info.csv\")\n",
    "df_sales = pd.read_csv(\"input_files/retail_sales.csv\")\n",
    "df_store_details = pd.read_csv(\"input_files/store_details.csv\")"
   ]
  },
  {
   "cell_type": "code",
   "execution_count": 11,
   "id": "6c575fca",
   "metadata": {},
   "outputs": [
    {
     "data": {
      "text/html": [
       "<div>\n",
       "<style scoped>\n",
       "    .dataframe tbody tr th:only-of-type {\n",
       "        vertical-align: middle;\n",
       "    }\n",
       "\n",
       "    .dataframe tbody tr th {\n",
       "        vertical-align: top;\n",
       "    }\n",
       "\n",
       "    .dataframe thead th {\n",
       "        text-align: right;\n",
       "    }\n",
       "</style>\n",
       "<table border=\"1\" class=\"dataframe\">\n",
       "  <thead>\n",
       "    <tr style=\"text-align: right;\">\n",
       "      <th></th>\n",
       "      <th>Transaction_ID</th>\n",
       "      <th>Transaction_Date</th>\n",
       "      <th>Product_ID</th>\n",
       "      <th>Store_ID</th>\n",
       "      <th>Quantity</th>\n",
       "      <th>Unit_Price</th>\n",
       "    </tr>\n",
       "  </thead>\n",
       "  <tbody>\n",
       "    <tr>\n",
       "      <th>0</th>\n",
       "      <td>1</td>\n",
       "      <td>2023-11-24</td>\n",
       "      <td>1006</td>\n",
       "      <td>9</td>\n",
       "      <td>1</td>\n",
       "      <td>26.86</td>\n",
       "    </tr>\n",
       "    <tr>\n",
       "      <th>1</th>\n",
       "      <td>2</td>\n",
       "      <td>2023-02-27</td>\n",
       "      <td>1003</td>\n",
       "      <td>1</td>\n",
       "      <td>15</td>\n",
       "      <td>17.48</td>\n",
       "    </tr>\n",
       "    <tr>\n",
       "      <th>2</th>\n",
       "      <td>3</td>\n",
       "      <td>2023-01-13</td>\n",
       "      <td>1007</td>\n",
       "      <td>1</td>\n",
       "      <td>8</td>\n",
       "      <td>87.47</td>\n",
       "    </tr>\n",
       "    <tr>\n",
       "      <th>3</th>\n",
       "      <td>4</td>\n",
       "      <td>2023-05-21</td>\n",
       "      <td>1004</td>\n",
       "      <td>4</td>\n",
       "      <td>11</td>\n",
       "      <td>96.51</td>\n",
       "    </tr>\n",
       "    <tr>\n",
       "      <th>4</th>\n",
       "      <td>5</td>\n",
       "      <td>2023-05-06</td>\n",
       "      <td>1006</td>\n",
       "      <td>9</td>\n",
       "      <td>12</td>\n",
       "      <td>7.97</td>\n",
       "    </tr>\n",
       "  </tbody>\n",
       "</table>\n",
       "</div>"
      ],
      "text/plain": [
       "   Transaction_ID Transaction_Date  Product_ID  Store_ID  Quantity  Unit_Price\n",
       "0               1       2023-11-24        1006         9         1       26.86\n",
       "1               2       2023-02-27        1003         1        15       17.48\n",
       "2               3       2023-01-13        1007         1         8       87.47\n",
       "3               4       2023-05-21        1004         4        11       96.51\n",
       "4               5       2023-05-06        1006         9        12        7.97"
      ]
     },
     "execution_count": 11,
     "metadata": {},
     "output_type": "execute_result"
    }
   ],
   "source": [
    "df_sales.head()"
   ]
  },
  {
   "cell_type": "markdown",
   "id": "bfec735c",
   "metadata": {},
   "source": [
    "## Summary Statistics of Numerical Columns"
   ]
  },
  {
   "cell_type": "markdown",
   "id": "23a23b2c",
   "metadata": {},
   "source": [
    "### Sales - Summary Statistics"
   ]
  },
  {
   "cell_type": "code",
   "execution_count": 12,
   "id": "37ed2be7",
   "metadata": {},
   "outputs": [
    {
     "data": {
      "text/html": [
       "<div>\n",
       "<style scoped>\n",
       "    .dataframe tbody tr th:only-of-type {\n",
       "        vertical-align: middle;\n",
       "    }\n",
       "\n",
       "    .dataframe tbody tr th {\n",
       "        vertical-align: top;\n",
       "    }\n",
       "\n",
       "    .dataframe thead th {\n",
       "        text-align: right;\n",
       "    }\n",
       "</style>\n",
       "<table border=\"1\" class=\"dataframe\">\n",
       "  <thead>\n",
       "    <tr style=\"text-align: right;\">\n",
       "      <th></th>\n",
       "      <th>Quantity</th>\n",
       "      <th>Unit_Price</th>\n",
       "    </tr>\n",
       "  </thead>\n",
       "  <tbody>\n",
       "    <tr>\n",
       "      <th>count</th>\n",
       "      <td>500.000000</td>\n",
       "      <td>500.000000</td>\n",
       "    </tr>\n",
       "    <tr>\n",
       "      <th>mean</th>\n",
       "      <td>10.064000</td>\n",
       "      <td>52.479500</td>\n",
       "    </tr>\n",
       "    <tr>\n",
       "      <th>std</th>\n",
       "      <td>5.520585</td>\n",
       "      <td>26.176497</td>\n",
       "    </tr>\n",
       "    <tr>\n",
       "      <th>min</th>\n",
       "      <td>1.000000</td>\n",
       "      <td>5.030000</td>\n",
       "    </tr>\n",
       "    <tr>\n",
       "      <th>25%</th>\n",
       "      <td>5.000000</td>\n",
       "      <td>29.372500</td>\n",
       "    </tr>\n",
       "    <tr>\n",
       "      <th>50%</th>\n",
       "      <td>10.000000</td>\n",
       "      <td>54.230000</td>\n",
       "    </tr>\n",
       "    <tr>\n",
       "      <th>75%</th>\n",
       "      <td>15.000000</td>\n",
       "      <td>73.822500</td>\n",
       "    </tr>\n",
       "    <tr>\n",
       "      <th>max</th>\n",
       "      <td>19.000000</td>\n",
       "      <td>99.570000</td>\n",
       "    </tr>\n",
       "  </tbody>\n",
       "</table>\n",
       "</div>"
      ],
      "text/plain": [
       "         Quantity  Unit_Price\n",
       "count  500.000000  500.000000\n",
       "mean    10.064000   52.479500\n",
       "std      5.520585   26.176497\n",
       "min      1.000000    5.030000\n",
       "25%      5.000000   29.372500\n",
       "50%     10.000000   54.230000\n",
       "75%     15.000000   73.822500\n",
       "max     19.000000   99.570000"
      ]
     },
     "execution_count": 12,
     "metadata": {},
     "output_type": "execute_result"
    }
   ],
   "source": [
    "df_sales[[\"Quantity\", \"Unit_Price\"]].describe()"
   ]
  },
  {
   "cell_type": "markdown",
   "id": "4e1fb493",
   "metadata": {},
   "source": [
    "## Merging Datasets"
   ]
  },
  {
   "cell_type": "code",
   "execution_count": 16,
   "id": "120c167e",
   "metadata": {},
   "outputs": [],
   "source": [
    "df_merged1 = df_sales.merge(df_product, left_on='Product_ID', right_on='Product_ID')"
   ]
  },
  {
   "cell_type": "code",
   "execution_count": 18,
   "id": "01954fe1",
   "metadata": {},
   "outputs": [],
   "source": [
    "df_merged = df_merged1.merge(df_store_details, left_on='Store_ID', right_on='Store_ID')"
   ]
  },
  {
   "cell_type": "code",
   "execution_count": 19,
   "id": "a3ae45dd",
   "metadata": {},
   "outputs": [
    {
     "data": {
      "text/html": [
       "<div>\n",
       "<style scoped>\n",
       "    .dataframe tbody tr th:only-of-type {\n",
       "        vertical-align: middle;\n",
       "    }\n",
       "\n",
       "    .dataframe tbody tr th {\n",
       "        vertical-align: top;\n",
       "    }\n",
       "\n",
       "    .dataframe thead th {\n",
       "        text-align: right;\n",
       "    }\n",
       "</style>\n",
       "<table border=\"1\" class=\"dataframe\">\n",
       "  <thead>\n",
       "    <tr style=\"text-align: right;\">\n",
       "      <th></th>\n",
       "      <th>Transaction_ID</th>\n",
       "      <th>Transaction_Date</th>\n",
       "      <th>Product_ID</th>\n",
       "      <th>Store_ID</th>\n",
       "      <th>Quantity</th>\n",
       "      <th>Unit_Price</th>\n",
       "      <th>Product_Name</th>\n",
       "      <th>Category</th>\n",
       "      <th>Store_Name</th>\n",
       "      <th>Country</th>\n",
       "    </tr>\n",
       "  </thead>\n",
       "  <tbody>\n",
       "    <tr>\n",
       "      <th>0</th>\n",
       "      <td>1</td>\n",
       "      <td>2023-11-24</td>\n",
       "      <td>1006</td>\n",
       "      <td>9</td>\n",
       "      <td>1</td>\n",
       "      <td>26.86</td>\n",
       "      <td>Product_1006</td>\n",
       "      <td>Electronics</td>\n",
       "      <td>Store_9</td>\n",
       "      <td>UK</td>\n",
       "    </tr>\n",
       "    <tr>\n",
       "      <th>1</th>\n",
       "      <td>2</td>\n",
       "      <td>2023-02-27</td>\n",
       "      <td>1003</td>\n",
       "      <td>1</td>\n",
       "      <td>15</td>\n",
       "      <td>17.48</td>\n",
       "      <td>Product_1003</td>\n",
       "      <td>Groceries</td>\n",
       "      <td>Store_1</td>\n",
       "      <td>Canada</td>\n",
       "    </tr>\n",
       "    <tr>\n",
       "      <th>2</th>\n",
       "      <td>3</td>\n",
       "      <td>2023-01-13</td>\n",
       "      <td>1007</td>\n",
       "      <td>1</td>\n",
       "      <td>8</td>\n",
       "      <td>87.47</td>\n",
       "      <td>Product_1007</td>\n",
       "      <td>Electronics</td>\n",
       "      <td>Store_1</td>\n",
       "      <td>Canada</td>\n",
       "    </tr>\n",
       "    <tr>\n",
       "      <th>3</th>\n",
       "      <td>4</td>\n",
       "      <td>2023-05-21</td>\n",
       "      <td>1004</td>\n",
       "      <td>4</td>\n",
       "      <td>11</td>\n",
       "      <td>96.51</td>\n",
       "      <td>Product_1004</td>\n",
       "      <td>Electronics</td>\n",
       "      <td>Store_4</td>\n",
       "      <td>Canada</td>\n",
       "    </tr>\n",
       "    <tr>\n",
       "      <th>4</th>\n",
       "      <td>5</td>\n",
       "      <td>2023-05-06</td>\n",
       "      <td>1006</td>\n",
       "      <td>9</td>\n",
       "      <td>12</td>\n",
       "      <td>7.97</td>\n",
       "      <td>Product_1006</td>\n",
       "      <td>Electronics</td>\n",
       "      <td>Store_9</td>\n",
       "      <td>UK</td>\n",
       "    </tr>\n",
       "  </tbody>\n",
       "</table>\n",
       "</div>"
      ],
      "text/plain": [
       "   Transaction_ID Transaction_Date  Product_ID  Store_ID  Quantity  \\\n",
       "0               1       2023-11-24        1006         9         1   \n",
       "1               2       2023-02-27        1003         1        15   \n",
       "2               3       2023-01-13        1007         1         8   \n",
       "3               4       2023-05-21        1004         4        11   \n",
       "4               5       2023-05-06        1006         9        12   \n",
       "\n",
       "   Unit_Price  Product_Name     Category Store_Name Country  \n",
       "0       26.86  Product_1006  Electronics    Store_9      UK  \n",
       "1       17.48  Product_1003    Groceries    Store_1  Canada  \n",
       "2       87.47  Product_1007  Electronics    Store_1  Canada  \n",
       "3       96.51  Product_1004  Electronics    Store_4  Canada  \n",
       "4        7.97  Product_1006  Electronics    Store_9      UK  "
      ]
     },
     "execution_count": 19,
     "metadata": {},
     "output_type": "execute_result"
    }
   ],
   "source": [
    "df_merged.head()"
   ]
  },
  {
   "cell_type": "markdown",
   "id": "34113c55",
   "metadata": {},
   "source": [
    "### Creating New Column \"Total Sales\""
   ]
  },
  {
   "cell_type": "code",
   "execution_count": 20,
   "id": "287edd63",
   "metadata": {},
   "outputs": [],
   "source": [
    "df_merged['Total Sales'] = df_merged['Quantity'] * df_merged['Unit_Price']"
   ]
  },
  {
   "cell_type": "code",
   "execution_count": 21,
   "id": "76701bfe",
   "metadata": {},
   "outputs": [
    {
     "data": {
      "text/html": [
       "<div>\n",
       "<style scoped>\n",
       "    .dataframe tbody tr th:only-of-type {\n",
       "        vertical-align: middle;\n",
       "    }\n",
       "\n",
       "    .dataframe tbody tr th {\n",
       "        vertical-align: top;\n",
       "    }\n",
       "\n",
       "    .dataframe thead th {\n",
       "        text-align: right;\n",
       "    }\n",
       "</style>\n",
       "<table border=\"1\" class=\"dataframe\">\n",
       "  <thead>\n",
       "    <tr style=\"text-align: right;\">\n",
       "      <th></th>\n",
       "      <th>Transaction_ID</th>\n",
       "      <th>Transaction_Date</th>\n",
       "      <th>Product_ID</th>\n",
       "      <th>Store_ID</th>\n",
       "      <th>Quantity</th>\n",
       "      <th>Unit_Price</th>\n",
       "      <th>Product_Name</th>\n",
       "      <th>Category</th>\n",
       "      <th>Store_Name</th>\n",
       "      <th>Country</th>\n",
       "      <th>Total Sales</th>\n",
       "    </tr>\n",
       "  </thead>\n",
       "  <tbody>\n",
       "    <tr>\n",
       "      <th>0</th>\n",
       "      <td>1</td>\n",
       "      <td>2023-11-24</td>\n",
       "      <td>1006</td>\n",
       "      <td>9</td>\n",
       "      <td>1</td>\n",
       "      <td>26.86</td>\n",
       "      <td>Product_1006</td>\n",
       "      <td>Electronics</td>\n",
       "      <td>Store_9</td>\n",
       "      <td>UK</td>\n",
       "      <td>26.86</td>\n",
       "    </tr>\n",
       "    <tr>\n",
       "      <th>1</th>\n",
       "      <td>2</td>\n",
       "      <td>2023-02-27</td>\n",
       "      <td>1003</td>\n",
       "      <td>1</td>\n",
       "      <td>15</td>\n",
       "      <td>17.48</td>\n",
       "      <td>Product_1003</td>\n",
       "      <td>Groceries</td>\n",
       "      <td>Store_1</td>\n",
       "      <td>Canada</td>\n",
       "      <td>262.20</td>\n",
       "    </tr>\n",
       "    <tr>\n",
       "      <th>2</th>\n",
       "      <td>3</td>\n",
       "      <td>2023-01-13</td>\n",
       "      <td>1007</td>\n",
       "      <td>1</td>\n",
       "      <td>8</td>\n",
       "      <td>87.47</td>\n",
       "      <td>Product_1007</td>\n",
       "      <td>Electronics</td>\n",
       "      <td>Store_1</td>\n",
       "      <td>Canada</td>\n",
       "      <td>699.76</td>\n",
       "    </tr>\n",
       "    <tr>\n",
       "      <th>3</th>\n",
       "      <td>4</td>\n",
       "      <td>2023-05-21</td>\n",
       "      <td>1004</td>\n",
       "      <td>4</td>\n",
       "      <td>11</td>\n",
       "      <td>96.51</td>\n",
       "      <td>Product_1004</td>\n",
       "      <td>Electronics</td>\n",
       "      <td>Store_4</td>\n",
       "      <td>Canada</td>\n",
       "      <td>1061.61</td>\n",
       "    </tr>\n",
       "    <tr>\n",
       "      <th>4</th>\n",
       "      <td>5</td>\n",
       "      <td>2023-05-06</td>\n",
       "      <td>1006</td>\n",
       "      <td>9</td>\n",
       "      <td>12</td>\n",
       "      <td>7.97</td>\n",
       "      <td>Product_1006</td>\n",
       "      <td>Electronics</td>\n",
       "      <td>Store_9</td>\n",
       "      <td>UK</td>\n",
       "      <td>95.64</td>\n",
       "    </tr>\n",
       "  </tbody>\n",
       "</table>\n",
       "</div>"
      ],
      "text/plain": [
       "   Transaction_ID Transaction_Date  Product_ID  Store_ID  Quantity  \\\n",
       "0               1       2023-11-24        1006         9         1   \n",
       "1               2       2023-02-27        1003         1        15   \n",
       "2               3       2023-01-13        1007         1         8   \n",
       "3               4       2023-05-21        1004         4        11   \n",
       "4               5       2023-05-06        1006         9        12   \n",
       "\n",
       "   Unit_Price  Product_Name     Category Store_Name Country  Total Sales  \n",
       "0       26.86  Product_1006  Electronics    Store_9      UK        26.86  \n",
       "1       17.48  Product_1003    Groceries    Store_1  Canada       262.20  \n",
       "2       87.47  Product_1007  Electronics    Store_1  Canada       699.76  \n",
       "3       96.51  Product_1004  Electronics    Store_4  Canada      1061.61  \n",
       "4        7.97  Product_1006  Electronics    Store_9      UK        95.64  "
      ]
     },
     "execution_count": 21,
     "metadata": {},
     "output_type": "execute_result"
    }
   ],
   "source": [
    "df_merged.head()"
   ]
  },
  {
   "cell_type": "code",
   "execution_count": 24,
   "id": "6317da7c",
   "metadata": {},
   "outputs": [
    {
     "data": {
      "text/plain": [
       "Transaction_ID        int64\n",
       "Transaction_Date     object\n",
       "Product_ID            int64\n",
       "Store_ID              int64\n",
       "Quantity              int64\n",
       "Unit_Price          float64\n",
       "Product_Name         object\n",
       "Category             object\n",
       "Store_Name           object\n",
       "Country              object\n",
       "Total Sales         float64\n",
       "dtype: object"
      ]
     },
     "execution_count": 24,
     "metadata": {},
     "output_type": "execute_result"
    }
   ],
   "source": [
    "df_merged.dtypes"
   ]
  },
  {
   "cell_type": "markdown",
   "id": "2d34adc1",
   "metadata": {},
   "source": [
    "### Grouping Data by Country"
   ]
  },
  {
   "cell_type": "markdown",
   "id": "4bd6d94c",
   "metadata": {},
   "source": [
    "#### Total Sales by Country"
   ]
  },
  {
   "cell_type": "code",
   "execution_count": null,
   "id": "8a821054",
   "metadata": {},
   "outputs": [
    {
     "data": {
      "text/html": [
       "<div>\n",
       "<style scoped>\n",
       "    .dataframe tbody tr th:only-of-type {\n",
       "        vertical-align: middle;\n",
       "    }\n",
       "\n",
       "    .dataframe tbody tr th {\n",
       "        vertical-align: top;\n",
       "    }\n",
       "\n",
       "    .dataframe thead th {\n",
       "        text-align: right;\n",
       "    }\n",
       "</style>\n",
       "<table border=\"1\" class=\"dataframe\">\n",
       "  <thead>\n",
       "    <tr style=\"text-align: right;\">\n",
       "      <th></th>\n",
       "      <th>Total Sales</th>\n",
       "    </tr>\n",
       "    <tr>\n",
       "      <th>Country</th>\n",
       "      <th></th>\n",
       "    </tr>\n",
       "  </thead>\n",
       "  <tbody>\n",
       "    <tr>\n",
       "      <th>Canada</th>\n",
       "      <td>130084.58</td>\n",
       "    </tr>\n",
       "    <tr>\n",
       "      <th>UK</th>\n",
       "      <td>20647.56</td>\n",
       "    </tr>\n",
       "    <tr>\n",
       "      <th>USA</th>\n",
       "      <td>113593.88</td>\n",
       "    </tr>\n",
       "  </tbody>\n",
       "</table>\n",
       "</div>"
      ],
      "text/plain": [
       "         Total Sales\n",
       "Country             \n",
       "Canada     130084.58\n",
       "UK          20647.56\n",
       "USA        113593.88"
      ]
     },
     "execution_count": 26,
     "metadata": {},
     "output_type": "execute_result"
    }
   ],
   "source": [
    "df_merged[[\"Country\", \"Total Sales\"]].groupby(\"Country\").sum()"
   ]
  },
  {
   "cell_type": "markdown",
   "id": "15d46a67",
   "metadata": {},
   "source": [
    "#### Average Order Values by Contry (Assumed Order Value as Order Quantity)"
   ]
  },
  {
   "cell_type": "code",
   "execution_count": 28,
   "id": "514da082",
   "metadata": {},
   "outputs": [
    {
     "data": {
      "text/html": [
       "<div>\n",
       "<style scoped>\n",
       "    .dataframe tbody tr th:only-of-type {\n",
       "        vertical-align: middle;\n",
       "    }\n",
       "\n",
       "    .dataframe tbody tr th {\n",
       "        vertical-align: top;\n",
       "    }\n",
       "\n",
       "    .dataframe thead th {\n",
       "        text-align: right;\n",
       "    }\n",
       "</style>\n",
       "<table border=\"1\" class=\"dataframe\">\n",
       "  <thead>\n",
       "    <tr style=\"text-align: right;\">\n",
       "      <th></th>\n",
       "      <th>Quantity</th>\n",
       "    </tr>\n",
       "    <tr>\n",
       "      <th>Country</th>\n",
       "      <th></th>\n",
       "    </tr>\n",
       "  </thead>\n",
       "  <tbody>\n",
       "    <tr>\n",
       "      <th>Canada</th>\n",
       "      <td>10.161017</td>\n",
       "    </tr>\n",
       "    <tr>\n",
       "      <th>UK</th>\n",
       "      <td>9.595745</td>\n",
       "    </tr>\n",
       "    <tr>\n",
       "      <th>USA</th>\n",
       "      <td>10.059908</td>\n",
       "    </tr>\n",
       "  </tbody>\n",
       "</table>\n",
       "</div>"
      ],
      "text/plain": [
       "          Quantity\n",
       "Country           \n",
       "Canada   10.161017\n",
       "UK        9.595745\n",
       "USA      10.059908"
      ]
     },
     "execution_count": 28,
     "metadata": {},
     "output_type": "execute_result"
    }
   ],
   "source": [
    "df_merged[[\"Country\", \"Quantity\"]].groupby(\"Country\").mean()"
   ]
  },
  {
   "cell_type": "markdown",
   "id": "e80208c4",
   "metadata": {},
   "source": [
    "#### Total Transactions by Country"
   ]
  },
  {
   "cell_type": "code",
   "execution_count": 29,
   "id": "9ee80abc",
   "metadata": {},
   "outputs": [
    {
     "data": {
      "text/plain": [
       "Country\n",
       "Canada    236\n",
       "UK         47\n",
       "USA       217\n",
       "Name: Country, dtype: int64"
      ]
     },
     "execution_count": 29,
     "metadata": {},
     "output_type": "execute_result"
    }
   ],
   "source": [
    "df_merged.groupby(\"Country\")[\"Country\"].count()"
   ]
  },
  {
   "cell_type": "markdown",
   "id": "f16632f9",
   "metadata": {},
   "source": [
    "### Exporting Dataframe into a CSV File"
   ]
  },
  {
   "cell_type": "code",
   "execution_count": 33,
   "id": "9aae4e57",
   "metadata": {},
   "outputs": [],
   "source": [
    "df_merged.to_csv('final_sales_data.csv', index=False)"
   ]
  },
  {
   "cell_type": "markdown",
   "id": "676eb03c",
   "metadata": {},
   "source": [
    "### Function that returns top 5 selling products"
   ]
  },
  {
   "cell_type": "code",
   "execution_count": 51,
   "id": "81578559",
   "metadata": {},
   "outputs": [],
   "source": [
    "def top_selling_products_by_conutries():\n",
    "    return df_merged[[\"Country\", \"Product_Name\"]].groupby([\"Country\", \"Product_Name\"]).max(5)"
   ]
  },
  {
   "cell_type": "code",
   "execution_count": 58,
   "id": "65b321e1",
   "metadata": {},
   "outputs": [
    {
     "data": {
      "text/html": [
       "<div>\n",
       "<style scoped>\n",
       "    .dataframe tbody tr th:only-of-type {\n",
       "        vertical-align: middle;\n",
       "    }\n",
       "\n",
       "    .dataframe tbody tr th {\n",
       "        vertical-align: top;\n",
       "    }\n",
       "\n",
       "    .dataframe thead th {\n",
       "        text-align: right;\n",
       "    }\n",
       "</style>\n",
       "<table border=\"1\" class=\"dataframe\">\n",
       "  <thead>\n",
       "    <tr style=\"text-align: right;\">\n",
       "      <th></th>\n",
       "      <th></th>\n",
       "    </tr>\n",
       "    <tr>\n",
       "      <th>Country</th>\n",
       "      <th>Product_Name</th>\n",
       "    </tr>\n",
       "  </thead>\n",
       "  <tbody>\n",
       "    <tr>\n",
       "      <th rowspan=\"10\" valign=\"top\">Canada</th>\n",
       "      <th>Product_1000</th>\n",
       "    </tr>\n",
       "    <tr>\n",
       "      <th>Product_1001</th>\n",
       "    </tr>\n",
       "    <tr>\n",
       "      <th>Product_1002</th>\n",
       "    </tr>\n",
       "    <tr>\n",
       "      <th>Product_1003</th>\n",
       "    </tr>\n",
       "    <tr>\n",
       "      <th>Product_1004</th>\n",
       "    </tr>\n",
       "    <tr>\n",
       "      <th>Product_1005</th>\n",
       "    </tr>\n",
       "    <tr>\n",
       "      <th>Product_1006</th>\n",
       "    </tr>\n",
       "    <tr>\n",
       "      <th>Product_1007</th>\n",
       "    </tr>\n",
       "    <tr>\n",
       "      <th>Product_1008</th>\n",
       "    </tr>\n",
       "    <tr>\n",
       "      <th>Product_1009</th>\n",
       "    </tr>\n",
       "    <tr>\n",
       "      <th rowspan=\"10\" valign=\"top\">UK</th>\n",
       "      <th>Product_1000</th>\n",
       "    </tr>\n",
       "    <tr>\n",
       "      <th>Product_1001</th>\n",
       "    </tr>\n",
       "    <tr>\n",
       "      <th>Product_1002</th>\n",
       "    </tr>\n",
       "    <tr>\n",
       "      <th>Product_1003</th>\n",
       "    </tr>\n",
       "    <tr>\n",
       "      <th>Product_1004</th>\n",
       "    </tr>\n",
       "    <tr>\n",
       "      <th>Product_1005</th>\n",
       "    </tr>\n",
       "    <tr>\n",
       "      <th>Product_1006</th>\n",
       "    </tr>\n",
       "    <tr>\n",
       "      <th>Product_1007</th>\n",
       "    </tr>\n",
       "    <tr>\n",
       "      <th>Product_1008</th>\n",
       "    </tr>\n",
       "    <tr>\n",
       "      <th>Product_1009</th>\n",
       "    </tr>\n",
       "    <tr>\n",
       "      <th rowspan=\"10\" valign=\"top\">USA</th>\n",
       "      <th>Product_1000</th>\n",
       "    </tr>\n",
       "    <tr>\n",
       "      <th>Product_1001</th>\n",
       "    </tr>\n",
       "    <tr>\n",
       "      <th>Product_1002</th>\n",
       "    </tr>\n",
       "    <tr>\n",
       "      <th>Product_1003</th>\n",
       "    </tr>\n",
       "    <tr>\n",
       "      <th>Product_1004</th>\n",
       "    </tr>\n",
       "    <tr>\n",
       "      <th>Product_1005</th>\n",
       "    </tr>\n",
       "    <tr>\n",
       "      <th>Product_1006</th>\n",
       "    </tr>\n",
       "    <tr>\n",
       "      <th>Product_1007</th>\n",
       "    </tr>\n",
       "    <tr>\n",
       "      <th>Product_1008</th>\n",
       "    </tr>\n",
       "    <tr>\n",
       "      <th>Product_1009</th>\n",
       "    </tr>\n",
       "  </tbody>\n",
       "</table>\n",
       "</div>"
      ],
      "text/plain": [
       "Empty DataFrame\n",
       "Columns: []\n",
       "Index: [(Canada, Product_1000), (Canada, Product_1001), (Canada, Product_1002), (Canada, Product_1003), (Canada, Product_1004), (Canada, Product_1005), (Canada, Product_1006), (Canada, Product_1007), (Canada, Product_1008), (Canada, Product_1009), (UK, Product_1000), (UK, Product_1001), (UK, Product_1002), (UK, Product_1003), (UK, Product_1004), (UK, Product_1005), (UK, Product_1006), (UK, Product_1007), (UK, Product_1008), (UK, Product_1009), (USA, Product_1000), (USA, Product_1001), (USA, Product_1002), (USA, Product_1003), (USA, Product_1004), (USA, Product_1005), (USA, Product_1006), (USA, Product_1007), (USA, Product_1008), (USA, Product_1009)]"
      ]
     },
     "execution_count": 58,
     "metadata": {},
     "output_type": "execute_result"
    }
   ],
   "source": [
    "top_products = top_selling_products_by_conutries()\n",
    "top_products"
   ]
  },
  {
   "cell_type": "code",
   "execution_count": 59,
   "id": "9a8956d2",
   "metadata": {},
   "outputs": [],
   "source": [
    "df_merged['Transaction_Date'].to_csv('date.csv', index=False)"
   ]
  },
  {
   "cell_type": "code",
   "execution_count": null,
   "id": "c29193ce",
   "metadata": {},
   "outputs": [],
   "source": []
  }
 ],
 "metadata": {
  "kernelspec": {
   "display_name": "my_venv",
   "language": "python",
   "name": "python3"
  },
  "language_info": {
   "codemirror_mode": {
    "name": "ipython",
    "version": 3
   },
   "file_extension": ".py",
   "mimetype": "text/x-python",
   "name": "python",
   "nbconvert_exporter": "python",
   "pygments_lexer": "ipython3",
   "version": "3.9.0"
  }
 },
 "nbformat": 4,
 "nbformat_minor": 5
}
